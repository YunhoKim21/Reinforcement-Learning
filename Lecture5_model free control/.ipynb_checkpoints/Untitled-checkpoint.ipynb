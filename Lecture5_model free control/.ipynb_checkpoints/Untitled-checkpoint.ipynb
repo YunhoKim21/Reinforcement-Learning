{
 "cells": [
  {
   "cell_type": "code",
   "execution_count": 1,
   "metadata": {},
   "outputs": [],
   "source": [
    "import torch"
   ]
  },
  {
   "cell_type": "code",
   "execution_count": 2,
   "metadata": {},
   "outputs": [],
   "source": [
    "q = torch.FloatTensor(4, 10, 7)"
   ]
  },
  {
   "cell_type": "code",
   "execution_count": 3,
   "metadata": {},
   "outputs": [
    {
     "data": {
      "text/plain": [
       "tensor([[[ 0.0000e+00,  0.0000e+00,  9.8091e-45,  0.0000e+00, -2.7286e+05,\n",
       "           4.5754e-41, -3.3159e+08],\n",
       "         [ 4.5754e-41,  0.0000e+00,  0.0000e+00,  0.0000e+00,  0.0000e+00,\n",
       "                  nan,         nan],\n",
       "         [ 0.0000e+00,  0.0000e+00,  1.4013e-45,  4.5754e-41,  0.0000e+00,\n",
       "           0.0000e+00,  1.5414e-44],\n",
       "         [ 0.0000e+00, -1.2586e+09,  4.5754e-41, -3.3159e+08,  4.5754e-41,\n",
       "                  nan,         nan],\n",
       "         [ 0.0000e+00,  0.0000e+00,         nan,         nan, -1.8447e+10,\n",
       "           4.5754e-41,  1.4013e-45],\n",
       "         [ 4.5754e-41,  1.0089e-43,  0.0000e+00,  9.8091e-45,  0.0000e+00,\n",
       "          -1.8400e+10,  4.5754e-41],\n",
       "         [-1.4457e+04,  4.5754e-41,  0.0000e+00,  0.0000e+00,  1.4013e-45,\n",
       "           0.0000e+00,  1.4013e-45],\n",
       "         [ 0.0000e+00, -1.8447e+10,  4.5754e-41,  1.4013e-45,  4.5754e-41,\n",
       "           2.0179e-43,  0.0000e+00],\n",
       "         [ 4.2039e-45,  0.0000e+00, -1.8400e+10,  4.5754e-41, -1.4457e+04,\n",
       "           4.5754e-41,  0.0000e+00],\n",
       "         [ 0.0000e+00,  1.4013e-45,  0.0000e+00,  1.4013e-45,  0.0000e+00,\n",
       "           1.4013e-44,  0.0000e+00]],\n",
       "\n",
       "        [[ 1.4013e-45,  0.0000e+00,  3.0268e-43,  0.0000e+00,  1.2612e-44,\n",
       "           0.0000e+00, -1.8400e+10],\n",
       "         [ 4.5754e-41, -1.4457e+04,  4.5754e-41,  0.0000e+00,  0.0000e+00,\n",
       "           5.6052e-45,  0.0000e+00],\n",
       "         [ 1.4013e-45,  0.0000e+00,  0.0000e+00,  0.0000e+00,  1.4013e-45,\n",
       "           4.5754e-41,  4.0357e-43],\n",
       "         [ 0.0000e+00,  1.2612e-44,  0.0000e+00, -1.8400e+10,  4.5754e-41,\n",
       "          -1.4457e+04,  4.5754e-41],\n",
       "         [ 1.4013e-45,  0.0000e+00,  5.6052e-45,  0.0000e+00,  1.4013e-45,\n",
       "           0.0000e+00,  0.0000e+00],\n",
       "         [ 0.0000e+00,  1.4013e-45,  4.5754e-41,  5.0447e-43,  0.0000e+00,\n",
       "           1.2612e-44,  0.0000e+00],\n",
       "         [-1.8400e+10,  4.5754e-41, -1.4457e+04,  4.5754e-41,  0.0000e+00,\n",
       "           0.0000e+00,  8.4078e-45],\n",
       "         [ 0.0000e+00,  4.2039e-45,  0.0000e+00,  0.0000e+00,  0.0000e+00,\n",
       "           1.4013e-45,  0.0000e+00],\n",
       "         [ 6.0536e-43,  0.0000e+00,  1.5414e-44,  0.0000e+00, -1.8400e+10,\n",
       "           4.5754e-41, -1.4457e+04],\n",
       "         [ 4.5754e-41,  4.2039e-44,  0.0000e+00,  8.4078e-45,  0.0000e+00,\n",
       "           4.2039e-45,  0.0000e+00]],\n",
       "\n",
       "        [[ 0.0000e+00,  0.0000e+00,  1.4013e-45,  0.0000e+00,  7.0625e-43,\n",
       "           0.0000e+00,  1.4013e-44],\n",
       "         [ 0.0000e+00, -1.8400e+10,  4.5754e-41, -1.4457e+04,  4.5754e-41,\n",
       "           0.0000e+00,  0.0000e+00],\n",
       "         [ 0.0000e+00,  0.0000e+00,  0.0000e+00,  0.0000e+00,  0.0000e+00,\n",
       "           0.0000e+00,  1.4013e-45],\n",
       "         [ 0.0000e+00,  0.0000e+00,  0.0000e+00,  0.0000e+00,  0.0000e+00,\n",
       "           0.0000e+00,  0.0000e+00],\n",
       "         [ 0.0000e+00,  0.0000e+00,  0.0000e+00,  0.0000e+00,  0.0000e+00,\n",
       "           0.0000e+00,  0.0000e+00],\n",
       "         [ 0.0000e+00,  0.0000e+00,  0.0000e+00, -1.8349e+10,  4.5754e-41,\n",
       "           0.0000e+00,  0.0000e+00],\n",
       "         [ 6.0536e-43,  0.0000e+00,  2.8026e-45,  0.0000e+00, -1.8349e+10,\n",
       "           4.5754e-41, -3.5097e+04],\n",
       "         [ 4.5754e-41,         nan,         nan,  3.6434e-44,  0.0000e+00,\n",
       "                  nan,         nan],\n",
       "         [-1.8349e+10,  4.5754e-41,  1.4013e-45,  4.5754e-41,  1.0201e-42,\n",
       "           0.0000e+00,  1.2612e-44],\n",
       "         [ 0.0000e+00, -1.8349e+10,  4.5754e-41, -3.5097e+04,  4.5754e-41,\n",
       "           1.4013e-45,  0.0000e+00]],\n",
       "\n",
       "        [[        nan,         nan, -1.8447e+10,  4.5754e-41,  1.4013e-45,\n",
       "           4.5754e-41,  1.4013e-45],\n",
       "         [ 4.5754e-41,  0.0000e+00,  0.0000e+00,  0.0000e+00,  0.0000e+00,\n",
       "           0.0000e+00,  0.0000e+00],\n",
       "         [ 0.0000e+00,  0.0000e+00,  0.0000e+00,  0.0000e+00,  0.0000e+00,\n",
       "           0.0000e+00,  0.0000e+00],\n",
       "         [ 0.0000e+00,  0.0000e+00,  0.0000e+00,  0.0000e+00,  0.0000e+00,\n",
       "          -1.8349e+10,  4.5754e-41],\n",
       "         [ 0.0000e+00,  0.0000e+00, -1.8349e+10,  4.5754e-41,  0.0000e+00,\n",
       "           0.0000e+00, -1.8349e+10],\n",
       "         [ 4.5754e-41,  0.0000e+00,  0.0000e+00, -1.8349e+10,  4.5754e-41,\n",
       "          -1.8349e+10,  4.5754e-41],\n",
       "         [ 1.1098e-42,  0.0000e+00,  2.8026e-45,  0.0000e+00, -1.8349e+10,\n",
       "           4.5754e-41, -3.5088e+04],\n",
       "         [ 4.5754e-41,  0.0000e+00,  0.0000e+00,  2.2421e-44,  0.0000e+00,\n",
       "                  nan,         nan],\n",
       "         [-1.6585e+10,  4.5754e-41,  1.4013e-45,  4.5754e-41, -1.6585e+10,\n",
       "           4.5754e-41, -1.6590e+10],\n",
       "         [ 4.5754e-41, -1.6585e+10,  4.5754e-41, -1.6590e+10,  4.5754e-41,\n",
       "          -1.6586e+10,  4.5754e-41]]])"
      ]
     },
     "execution_count": 3,
     "metadata": {},
     "output_type": "execute_result"
    }
   ],
   "source": [
    "q"
   ]
  },
  {
   "cell_type": "code",
   "execution_count": 4,
   "metadata": {},
   "outputs": [
    {
     "ename": "SyntaxError",
     "evalue": "invalid syntax (<ipython-input-4-62efd3a0aaf5>, line 1)",
     "output_type": "error",
     "traceback": [
      "\u001b[0;36m  File \u001b[0;32m\"<ipython-input-4-62efd3a0aaf5>\"\u001b[0;36m, line \u001b[0;32m1\u001b[0m\n\u001b[0;31m    initial_state = (0. 3)\u001b[0m\n\u001b[0m                        ^\u001b[0m\n\u001b[0;31mSyntaxError\u001b[0m\u001b[0;31m:\u001b[0m invalid syntax\n"
     ]
    }
   ],
   "source": [
    "initial_state = (0. 3)"
   ]
  },
  {
   "cell_type": "code",
   "execution_count": 5,
   "metadata": {},
   "outputs": [],
   "source": [
    "initial_state = (0, 3)"
   ]
  },
  {
   "cell_type": "code",
   "execution_count": 6,
   "metadata": {},
   "outputs": [
    {
     "data": {
      "text/plain": [
       "tensor([[ 0.0000e+00,  0.0000e+00,  9.8091e-45,  0.0000e+00, -2.7286e+05,\n",
       "          4.5754e-41, -3.3159e+08],\n",
       "        [ 4.5754e-41,  0.0000e+00,  0.0000e+00,  0.0000e+00,  0.0000e+00,\n",
       "                 nan,         nan],\n",
       "        [ 0.0000e+00,  0.0000e+00,  1.4013e-45,  4.5754e-41,  0.0000e+00,\n",
       "          0.0000e+00,  1.5414e-44],\n",
       "        [ 0.0000e+00, -1.2586e+09,  4.5754e-41, -3.3159e+08,  4.5754e-41,\n",
       "                 nan,         nan],\n",
       "        [ 0.0000e+00,  0.0000e+00,         nan,         nan, -1.8447e+10,\n",
       "          4.5754e-41,  1.4013e-45],\n",
       "        [ 4.5754e-41,  1.0089e-43,  0.0000e+00,  9.8091e-45,  0.0000e+00,\n",
       "         -1.8400e+10,  4.5754e-41],\n",
       "        [-1.4457e+04,  4.5754e-41,  0.0000e+00,  0.0000e+00,  1.4013e-45,\n",
       "          0.0000e+00,  1.4013e-45],\n",
       "        [ 0.0000e+00, -1.8447e+10,  4.5754e-41,  1.4013e-45,  4.5754e-41,\n",
       "          2.0179e-43,  0.0000e+00],\n",
       "        [ 4.2039e-45,  0.0000e+00, -1.8400e+10,  4.5754e-41, -1.4457e+04,\n",
       "          4.5754e-41,  0.0000e+00],\n",
       "        [ 0.0000e+00,  1.4013e-45,  0.0000e+00,  1.4013e-45,  0.0000e+00,\n",
       "          1.4013e-44,  0.0000e+00]])"
      ]
     },
     "execution_count": 6,
     "metadata": {},
     "output_type": "execute_result"
    }
   ],
   "source": [
    "q[0]"
   ]
  },
  {
   "cell_type": "code",
   "execution_count": 7,
   "metadata": {},
   "outputs": [
    {
     "data": {
      "text/plain": [
       "tensor([ 0.0000e+00,  0.0000e+00,  9.8091e-45,  0.0000e+00, -2.7286e+05,\n",
       "         4.5754e-41, -3.3159e+08])"
      ]
     },
     "execution_count": 7,
     "metadata": {},
     "output_type": "execute_result"
    }
   ],
   "source": [
    "q[0][0]"
   ]
  },
  {
   "cell_type": "code",
   "execution_count": 8,
   "metadata": {},
   "outputs": [],
   "source": [
    "goal = (7, 3)"
   ]
  },
  {
   "cell_type": "code",
   "execution_count": 9,
   "metadata": {},
   "outputs": [
    {
     "data": {
      "text/plain": [
       "<function abs(x, /)>"
      ]
     },
     "execution_count": 9,
     "metadata": {},
     "output_type": "execute_result"
    }
   ],
   "source": [
    "abs"
   ]
  },
  {
   "cell_type": "code",
   "execution_count": 10,
   "metadata": {},
   "outputs": [
    {
     "data": {
      "text/plain": [
       "1"
      ]
     },
     "execution_count": 10,
     "metadata": {},
     "output_type": "execute_result"
    }
   ],
   "source": [
    "abs(-1)"
   ]
  },
  {
   "cell_type": "code",
   "execution_count": 11,
   "metadata": {},
   "outputs": [],
   "source": [
    "def distance(x, y):\n",
    "    return abs(x - goal[0]) + abs(y - abs[1])"
   ]
  },
  {
   "cell_type": "code",
   "execution_count": 12,
   "metadata": {},
   "outputs": [
    {
     "ename": "TypeError",
     "evalue": "'builtin_function_or_method' object is not subscriptable",
     "output_type": "error",
     "traceback": [
      "\u001b[0;31m---------------------------------------------------------------------------\u001b[0m",
      "\u001b[0;31mTypeError\u001b[0m                                 Traceback (most recent call last)",
      "\u001b[0;32m<ipython-input-12-770c3ae330de>\u001b[0m in \u001b[0;36m<module>\u001b[0;34m\u001b[0m\n\u001b[0;32m----> 1\u001b[0;31m \u001b[0mdistance\u001b[0m\u001b[0;34m(\u001b[0m\u001b[0;36m0\u001b[0m\u001b[0;34m,\u001b[0m \u001b[0;36m0\u001b[0m\u001b[0;34m)\u001b[0m\u001b[0;34m\u001b[0m\u001b[0;34m\u001b[0m\u001b[0m\n\u001b[0m",
      "\u001b[0;32m<ipython-input-11-73867e4c2a9b>\u001b[0m in \u001b[0;36mdistance\u001b[0;34m(x, y)\u001b[0m\n\u001b[1;32m      1\u001b[0m \u001b[0;32mdef\u001b[0m \u001b[0mdistance\u001b[0m\u001b[0;34m(\u001b[0m\u001b[0mx\u001b[0m\u001b[0;34m,\u001b[0m \u001b[0my\u001b[0m\u001b[0;34m)\u001b[0m\u001b[0;34m:\u001b[0m\u001b[0;34m\u001b[0m\u001b[0;34m\u001b[0m\u001b[0m\n\u001b[0;32m----> 2\u001b[0;31m     \u001b[0;32mreturn\u001b[0m \u001b[0mabs\u001b[0m\u001b[0;34m(\u001b[0m\u001b[0mx\u001b[0m \u001b[0;34m-\u001b[0m \u001b[0mgoal\u001b[0m\u001b[0;34m[\u001b[0m\u001b[0;36m0\u001b[0m\u001b[0;34m]\u001b[0m\u001b[0;34m)\u001b[0m \u001b[0;34m+\u001b[0m \u001b[0mabs\u001b[0m\u001b[0;34m(\u001b[0m\u001b[0my\u001b[0m \u001b[0;34m-\u001b[0m \u001b[0mabs\u001b[0m\u001b[0;34m[\u001b[0m\u001b[0;36m1\u001b[0m\u001b[0;34m]\u001b[0m\u001b[0;34m)\u001b[0m\u001b[0;34m\u001b[0m\u001b[0;34m\u001b[0m\u001b[0m\n\u001b[0m",
      "\u001b[0;31mTypeError\u001b[0m: 'builtin_function_or_method' object is not subscriptable"
     ]
    }
   ],
   "source": [
    "distance(0, 0)"
   ]
  },
  {
   "cell_type": "code",
   "execution_count": 13,
   "metadata": {},
   "outputs": [],
   "source": [
    "def distance(x, y):\n",
    "    return abs(x - goal[0]) + abs(y - goal[1])"
   ]
  },
  {
   "cell_type": "code",
   "execution_count": 14,
   "metadata": {},
   "outputs": [
    {
     "data": {
      "text/plain": [
       "10"
      ]
     },
     "execution_count": 14,
     "metadata": {},
     "output_type": "execute_result"
    }
   ],
   "source": [
    "distance(0, 0)"
   ]
  },
  {
   "cell_type": "code",
   "execution_count": 15,
   "metadata": {},
   "outputs": [
    {
     "data": {
      "text/plain": [
       "0"
      ]
     },
     "execution_count": 15,
     "metadata": {},
     "output_type": "execute_result"
    }
   ],
   "source": [
    "distance(7, 3)"
   ]
  },
  {
   "cell_type": "code",
   "execution_count": 16,
   "metadata": {},
   "outputs": [],
   "source": [
    "q[0][0][0] = 1"
   ]
  },
  {
   "cell_type": "code",
   "execution_count": 17,
   "metadata": {},
   "outputs": [
    {
     "data": {
      "text/plain": [
       "tensor([ 1.0000e+00,  0.0000e+00,  9.8091e-45,  0.0000e+00, -2.7286e+05,\n",
       "         4.5754e-41, -3.3159e+08])"
      ]
     },
     "execution_count": 17,
     "metadata": {},
     "output_type": "execute_result"
    }
   ],
   "source": [
    "q[0][0]"
   ]
  },
  {
   "cell_type": "code",
   "execution_count": 18,
   "metadata": {},
   "outputs": [],
   "source": [
    "for i in range(4):\n",
    "    for j in range(10):\n",
    "        for k in range(7):\n",
    "            q[i][j][k] = (-1) * distance(j, k)"
   ]
  },
  {
   "cell_type": "code",
   "execution_count": 19,
   "metadata": {},
   "outputs": [
    {
     "data": {
      "text/plain": [
       "tensor([-10.,  -9.,  -8.,  -7.,  -8.,  -9., -10.])"
      ]
     },
     "execution_count": 19,
     "metadata": {},
     "output_type": "execute_result"
    }
   ],
   "source": [
    "q[0][0]"
   ]
  },
  {
   "cell_type": "code",
   "execution_count": 20,
   "metadata": {},
   "outputs": [],
   "source": [
    "n_epochs = 0"
   ]
  },
  {
   "cell_type": "code",
   "execution_count": 21,
   "metadata": {},
   "outputs": [],
   "source": [
    "epsilon = 0.1"
   ]
  },
  {
   "cell_type": "code",
   "execution_count": 22,
   "metadata": {},
   "outputs": [],
   "source": [
    "epsilon = 0.2"
   ]
  },
  {
   "cell_type": "code",
   "execution_count": 23,
   "metadata": {},
   "outputs": [],
   "source": [
    "import random"
   ]
  },
  {
   "cell_type": "code",
   "execution_count": 24,
   "metadata": {},
   "outputs": [],
   "source": [
    "def epsilon_greedy(state):\n",
    "    if random.uniform(0, 1) < epsilon:\n",
    "        return random.choice([0, 1, 2, 3])\n",
    "    max_val = -1000\n",
    "    max_args = []\n",
    "    for i in range(4):\n",
    "        if q[i][state[0]][state[1]] > max_val:\n",
    "            max_args.append(i)\n",
    "            max_val = q[i][state[0]][state[1]]\n",
    "    return random.choice(max_args)\n",
    "\n"
   ]
  },
  {
   "cell_type": "code",
   "execution_count": 25,
   "metadata": {},
   "outputs": [
    {
     "data": {
      "text/plain": [
       "3"
      ]
     },
     "execution_count": 25,
     "metadata": {},
     "output_type": "execute_result"
    }
   ],
   "source": [
    "epsilon_greedy([0, 0])"
   ]
  },
  {
   "cell_type": "code",
   "execution_count": 26,
   "metadata": {},
   "outputs": [
    {
     "data": {
      "text/plain": [
       "0"
      ]
     },
     "execution_count": 26,
     "metadata": {},
     "output_type": "execute_result"
    }
   ],
   "source": [
    "epsilon_greedy([0, 0])"
   ]
  },
  {
   "cell_type": "code",
   "execution_count": 27,
   "metadata": {},
   "outputs": [
    {
     "data": {
      "text/plain": [
       "0"
      ]
     },
     "execution_count": 27,
     "metadata": {},
     "output_type": "execute_result"
    }
   ],
   "source": [
    "epsilon_greedy([0, 0])"
   ]
  },
  {
   "cell_type": "code",
   "execution_count": 28,
   "metadata": {},
   "outputs": [
    {
     "data": {
      "text/plain": [
       "0"
      ]
     },
     "execution_count": 28,
     "metadata": {},
     "output_type": "execute_result"
    }
   ],
   "source": [
    "epsilon_greedy([0, 0])\n"
   ]
  },
  {
   "cell_type": "code",
   "execution_count": 29,
   "metadata": {},
   "outputs": [
    {
     "data": {
      "text/plain": [
       "0"
      ]
     },
     "execution_count": 29,
     "metadata": {},
     "output_type": "execute_result"
    }
   ],
   "source": [
    "  epsilon_greedy([0, 0])"
   ]
  },
  {
   "cell_type": "code",
   "execution_count": 30,
   "metadata": {},
   "outputs": [
    {
     "data": {
      "text/plain": [
       "3"
      ]
     },
     "execution_count": 30,
     "metadata": {},
     "output_type": "execute_result"
    }
   ],
   "source": [
    "epsilon_greedy([0, 0])\n",
    "\n",
    "\n"
   ]
  },
  {
   "cell_type": "code",
   "execution_count": 31,
   "metadata": {},
   "outputs": [
    {
     "data": {
      "text/plain": [
       "0"
      ]
     },
     "execution_count": 31,
     "metadata": {},
     "output_type": "execute_result"
    }
   ],
   "source": [
    "epsilon_greedy([0, 0])"
   ]
  },
  {
   "cell_type": "code",
   "execution_count": 32,
   "metadata": {},
   "outputs": [
    {
     "data": {
      "text/plain": [
       "0"
      ]
     },
     "execution_count": 32,
     "metadata": {},
     "output_type": "execute_result"
    }
   ],
   "source": [
    "epsilon_greedy([0, 0])"
   ]
  },
  {
   "cell_type": "code",
   "execution_count": 33,
   "metadata": {},
   "outputs": [
    {
     "data": {
      "text/plain": [
       "0"
      ]
     },
     "execution_count": 33,
     "metadata": {},
     "output_type": "execute_result"
    }
   ],
   "source": [
    "epsilon_greedy([0, 0])"
   ]
  },
  {
   "cell_type": "code",
   "execution_count": 34,
   "metadata": {},
   "outputs": [
    {
     "data": {
      "text/plain": [
       "0"
      ]
     },
     "execution_count": 34,
     "metadata": {},
     "output_type": "execute_result"
    }
   ],
   "source": [
    "epsilon_greedy([0, 0])"
   ]
  },
  {
   "cell_type": "code",
   "execution_count": 35,
   "metadata": {},
   "outputs": [
    {
     "data": {
      "text/plain": [
       "0"
      ]
     },
     "execution_count": 35,
     "metadata": {},
     "output_type": "execute_result"
    }
   ],
   "source": [
    "epsilon_greedy([0, 0])"
   ]
  },
  {
   "cell_type": "code",
   "execution_count": 36,
   "metadata": {},
   "outputs": [
    {
     "data": {
      "text/plain": [
       "0"
      ]
     },
     "execution_count": 36,
     "metadata": {},
     "output_type": "execute_result"
    }
   ],
   "source": [
    "epsilon_greedy([0, 0])\n"
   ]
  },
  {
   "cell_type": "code",
   "execution_count": 37,
   "metadata": {},
   "outputs": [
    {
     "data": {
      "text/plain": [
       "3"
      ]
     },
     "execution_count": 37,
     "metadata": {},
     "output_type": "execute_result"
    }
   ],
   "source": [
    "epsilon_greedy([0, 0])"
   ]
  },
  {
   "cell_type": "code",
   "execution_count": 38,
   "metadata": {},
   "outputs": [
    {
     "data": {
      "text/plain": [
       "2"
      ]
     },
     "execution_count": 38,
     "metadata": {},
     "output_type": "execute_result"
    }
   ],
   "source": [
    "epsilon_greedy([0, 0])"
   ]
  },
  {
   "cell_type": "code",
   "execution_count": 39,
   "metadata": {},
   "outputs": [
    {
     "data": {
      "text/plain": [
       "3"
      ]
     },
     "execution_count": 39,
     "metadata": {},
     "output_type": "execute_result"
    }
   ],
   "source": [
    "epsilon_greedy([0, 0])"
   ]
  },
  {
   "cell_type": "code",
   "execution_count": 40,
   "metadata": {},
   "outputs": [
    {
     "data": {
      "text/plain": [
       "0"
      ]
     },
     "execution_count": 40,
     "metadata": {},
     "output_type": "execute_result"
    }
   ],
   "source": [
    "epsilon_greedy([0, 0])"
   ]
  },
  {
   "cell_type": "code",
   "execution_count": 41,
   "metadata": {},
   "outputs": [
    {
     "data": {
      "text/plain": [
       "2"
      ]
     },
     "execution_count": 41,
     "metadata": {},
     "output_type": "execute_result"
    }
   ],
   "source": [
    "epsilon_greedy([0, 0])"
   ]
  },
  {
   "cell_type": "code",
   "execution_count": 42,
   "metadata": {},
   "outputs": [
    {
     "data": {
      "text/plain": [
       "0"
      ]
     },
     "execution_count": 42,
     "metadata": {},
     "output_type": "execute_result"
    }
   ],
   "source": [
    "epsilon_greedy([0, 0])"
   ]
  },
  {
   "cell_type": "code",
   "execution_count": 43,
   "metadata": {},
   "outputs": [
    {
     "data": {
      "text/plain": [
       "0"
      ]
     },
     "execution_count": 43,
     "metadata": {},
     "output_type": "execute_result"
    }
   ],
   "source": [
    "epsilon_greedy([1, 3])"
   ]
  },
  {
   "cell_type": "code",
   "execution_count": 44,
   "metadata": {},
   "outputs": [
    {
     "data": {
      "text/plain": [
       "0"
      ]
     },
     "execution_count": 44,
     "metadata": {},
     "output_type": "execute_result"
    }
   ],
   "source": [
    "epsilon_greedy([1, 3])"
   ]
  },
  {
   "cell_type": "code",
   "execution_count": 45,
   "metadata": {},
   "outputs": [
    {
     "data": {
      "text/plain": [
       "0"
      ]
     },
     "execution_count": 45,
     "metadata": {},
     "output_type": "execute_result"
    }
   ],
   "source": [
    "epsilon_greedy([1, 3])"
   ]
  },
  {
   "cell_type": "code",
   "execution_count": 46,
   "metadata": {},
   "outputs": [
    {
     "data": {
      "text/plain": [
       "0"
      ]
     },
     "execution_count": 46,
     "metadata": {},
     "output_type": "execute_result"
    }
   ],
   "source": [
    "epsilon_greedy([1, 3])"
   ]
  },
  {
   "cell_type": "code",
   "execution_count": 47,
   "metadata": {},
   "outputs": [
    {
     "data": {
      "text/plain": [
       "0"
      ]
     },
     "execution_count": 47,
     "metadata": {},
     "output_type": "execute_result"
    }
   ],
   "source": [
    "epsilon_greedy([1, 3])"
   ]
  },
  {
   "cell_type": "code",
   "execution_count": 48,
   "metadata": {},
   "outputs": [
    {
     "data": {
      "text/plain": [
       "0"
      ]
     },
     "execution_count": 48,
     "metadata": {},
     "output_type": "execute_result"
    }
   ],
   "source": [
    "epsilon_greedy([1, 3])"
   ]
  },
  {
   "cell_type": "code",
   "execution_count": 49,
   "metadata": {},
   "outputs": [
    {
     "data": {
      "text/plain": [
       "0"
      ]
     },
     "execution_count": 49,
     "metadata": {},
     "output_type": "execute_result"
    }
   ],
   "source": [
    "epsilon_greedy([1, 3])\n"
   ]
  },
  {
   "cell_type": "code",
   "execution_count": 50,
   "metadata": {},
   "outputs": [],
   "source": [
    "def epsilon_greedy(state):\n",
    "    if random.uniform(0, 1) < epsilon:\n",
    "        return random.choice([0, 1, 2, 3])\n",
    "    max_val = -1000\n",
    "    max_args = []\n",
    "    for i in range(4):\n",
    "        if q[i][state[0]][state[1]] > max_val:\n",
    "            max_args = [i]\n",
    "            max_val = q[i][state[0]][state[1]]\n",
    "        elif q[i][state[0]][state[1]] == max_val:\n",
    "            max_args.append(i)\n",
    "    return random.choice(max_args)"
   ]
  },
  {
   "cell_type": "code",
   "execution_count": 51,
   "metadata": {},
   "outputs": [
    {
     "data": {
      "text/plain": [
       "0"
      ]
     },
     "execution_count": 51,
     "metadata": {},
     "output_type": "execute_result"
    }
   ],
   "source": [
    "epsilon_greedy([1, 3])"
   ]
  },
  {
   "cell_type": "code",
   "execution_count": 52,
   "metadata": {},
   "outputs": [
    {
     "data": {
      "text/plain": [
       "1"
      ]
     },
     "execution_count": 52,
     "metadata": {},
     "output_type": "execute_result"
    }
   ],
   "source": [
    "epsilon_greedy([1, 3])"
   ]
  },
  {
   "cell_type": "code",
   "execution_count": 53,
   "metadata": {},
   "outputs": [
    {
     "data": {
      "text/plain": [
       "3"
      ]
     },
     "execution_count": 53,
     "metadata": {},
     "output_type": "execute_result"
    }
   ],
   "source": [
    "epsilon_greedy([1, 3])"
   ]
  },
  {
   "cell_type": "code",
   "execution_count": 54,
   "metadata": {},
   "outputs": [
    {
     "data": {
      "text/plain": [
       "2"
      ]
     },
     "execution_count": 54,
     "metadata": {},
     "output_type": "execute_result"
    }
   ],
   "source": [
    "epsilon_greedy([1, 3])"
   ]
  },
  {
   "cell_type": "code",
   "execution_count": 55,
   "metadata": {},
   "outputs": [
    {
     "data": {
      "text/plain": [
       "1"
      ]
     },
     "execution_count": 55,
     "metadata": {},
     "output_type": "execute_result"
    }
   ],
   "source": [
    "epsilon_greedy([1, 3])"
   ]
  },
  {
   "cell_type": "code",
   "execution_count": 56,
   "metadata": {},
   "outputs": [
    {
     "data": {
      "text/plain": [
       "0"
      ]
     },
     "execution_count": 56,
     "metadata": {},
     "output_type": "execute_result"
    }
   ],
   "source": [
    "epsilon_greedy([1, 3])"
   ]
  },
  {
   "cell_type": "code",
   "execution_count": 57,
   "metadata": {},
   "outputs": [
    {
     "data": {
      "text/plain": [
       "2"
      ]
     },
     "execution_count": 57,
     "metadata": {},
     "output_type": "execute_result"
    }
   ],
   "source": [
    "epsilon_greedy([1, 3])\n",
    "\n"
   ]
  },
  {
   "cell_type": "code",
   "execution_count": 58,
   "metadata": {},
   "outputs": [
    {
     "data": {
      "text/plain": [
       "0"
      ]
     },
     "execution_count": 58,
     "metadata": {},
     "output_type": "execute_result"
    }
   ],
   "source": [
    "epsilon_greedy([1, 3])"
   ]
  },
  {
   "cell_type": "code",
   "execution_count": 59,
   "metadata": {},
   "outputs": [
    {
     "data": {
      "text/plain": [
       "3"
      ]
     },
     "execution_count": 59,
     "metadata": {},
     "output_type": "execute_result"
    }
   ],
   "source": [
    "epsilon_greedy([1, 3])"
   ]
  },
  {
   "cell_type": "code",
   "execution_count": 60,
   "metadata": {},
   "outputs": [
    {
     "data": {
      "text/plain": [
       "3"
      ]
     },
     "execution_count": 60,
     "metadata": {},
     "output_type": "execute_result"
    }
   ],
   "source": [
    "epsilon_greedy([1, 3])"
   ]
  },
  {
   "cell_type": "code",
   "execution_count": null,
   "metadata": {},
   "outputs": [],
   "source": [
    "def step(state):\n",
    "    action = epsilon_greedy(state)\n",
    "    "
   ]
  }
 ],
 "metadata": {
  "kernelspec": {
   "display_name": "Python 3",
   "language": "python",
   "name": "python3"
  },
  "language_info": {
   "codemirror_mode": {
    "name": "ipython",
    "version": 3
   },
   "file_extension": ".py",
   "mimetype": "text/x-python",
   "name": "python",
   "nbconvert_exporter": "python",
   "pygments_lexer": "ipython3",
   "version": "3.8.5"
  }
 },
 "nbformat": 4,
 "nbformat_minor": 4
}
